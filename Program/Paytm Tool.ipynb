{
 "cells": [
  {
   "cell_type": "code",
   "execution_count": 39,
   "metadata": {},
   "outputs": [],
   "source": [
    "import PyPDF2\n",
    "import pandas as pd\n",
    "import numpy as np\n",
    "import matplotlib \n",
    "pd.options.mode.chained_assignment = None  # default='warn' "
   ]
  },
  {
   "cell_type": "code",
   "execution_count": 40,
   "metadata": {},
   "outputs": [],
   "source": [
    "# PDF file Directory\n",
    "path = 'C:/Users/u281311/Desktop/Paytm Analytics Tool/Data/'\n",
    "PDFfilename = \"Dec_Jan_data.pdf\"\n",
    "sys_text = 'This is system generated wallet transaction history. If you have any queries,call us at 0120-3888388.'"
   ]
  },
  {
   "cell_type": "code",
   "execution_count": 41,
   "metadata": {},
   "outputs": [],
   "source": [
    "pfr = PyPDF2.PdfFileReader(open(path+PDFfilename, \"rb\"))\n",
    "k1 = pfr.getPage(0).extractText()"
   ]
  },
  {
   "cell_type": "code",
   "execution_count": 42,
   "metadata": {},
   "outputs": [],
   "source": [
    "unwanted_text_fun1 =k1.find(\"ACCOUNT DETAILS\",1)+len(\"ACCOUNT DETAILS\")\n",
    "unwanted_text_fun2 =k1.find(\"DETAILSAMOUNTTRANSACTION STATUS\",1)+len(\"DETAILSAMOUNTTRANSACTION STATUS\")\n",
    "    \n",
    "#if(len(unwanted_text_fun1)>0):\n",
    "#    total_data = total_data[unwanted_text_fun1:]\n",
    "#else:\n",
    "#    total_data = total_data[unwanted_text_fun2:]"
   ]
  },
  {
   "cell_type": "code",
   "execution_count": 43,
   "metadata": {},
   "outputs": [],
   "source": [
    "def list_create(sentence):\n",
    "    sent_1 = sentence.split('Seperator')\n",
    "    sent_2 = sent_1[:2]\n",
    "    sent_3 = sent_1[3:-2]\n",
    "    sent_4= sent_1[6]\n",
    "    sent_3.append(sent_4)\n",
    "    sent_2.extend(sent_3)\n",
    "    sent_2.append(sent_1[5]+sent_1[2])\n",
    "    return(sent_2)"
   ]
  },
  {
   "cell_type": "code",
   "execution_count": 44,
   "metadata": {},
   "outputs": [],
   "source": [
    "def Seperator_add_format_2(k2):\n",
    "    # Variable-1\n",
    "    if(k2[0:22].find(' PM')>0):\n",
    "        k2=k2.replace(' PM',' PM Seperator ',1)   \n",
    "    if(k2[0:22].find(' AM')>0):\n",
    "        k2=k2.replace(' AM',' AM Seperator ',1)\n",
    "        \n",
    "    #Variable-2\n",
    "    k2=k2.replace('Paytm Cash Txn',' Seperator Paytm Cash Txn',1)\n",
    "    \n",
    "    # Variable-3\n",
    "    k2 = k2.replace('Rs','Seperator',1)\n",
    "    \n",
    "    # Variable-4\n",
    "    first_index =k2.find(\"ID  #\",1)+len(\"ID  #\")\n",
    "    #last_index =k2.find(\" Order\",1)+len(\" Order\")\n",
    "    \n",
    "    if(k2[first_index:].find('+')>0):\n",
    "        k2 = k2.replace('+','SeperatorCreditSeperator',1)\n",
    "    else:\n",
    "        k2 = k2.replace('-','SeperatorDebitSeperator',1)\n",
    "    \n",
    "    # Variable-5\n",
    "    if(k2[-7:]=='SUCCESS'):\n",
    "        k2= k2[:-7]+\" SeperatorSUCCESS \"\n",
    "    elif(k2[-7:]=='FAILURE'):\n",
    "        k2= k2[:-7]+\"SeperatorFAILURE\"\n",
    "    else:\n",
    "        k2= k2[:-13]+\" SeperatorREFUNDED_BACK\" \n",
    "        \n",
    "    k3 = pd.DataFrame(list_create(k2))\n",
    "    k4 = k3.T\n",
    "    k4.columns = ['Date','Activity','Amount','Amount_type','Amount_Status','Order_info']\n",
    "    return(k4)"
   ]
  },
  {
   "cell_type": "code",
   "execution_count": 45,
   "metadata": {},
   "outputs": [],
   "source": [
    "def Seperator_add(k2):\n",
    "    if(k2[0:22].find(' PM')>0):\n",
    "        k2=k2.replace(' PM',' PM Seperator ',1)   \n",
    "    if(k2[0:22].find(' AM')>0):\n",
    "        k2=k2.replace(' AM',' AM Seperator ',1)\n",
    "    #k2=k2.replace(' AM',' AM Seperator ',1)\n",
    "    k2=k2.replace('Rs.',' Seperator ',1)\n",
    "    k2=k2.replace('+SUCCESS',' Seperator Credit Seperator SUCCESS Seperator',1)\n",
    "    k2=k2.replace('+FAILURE',' Seperator Credit Seperator FAILURE Seperator',1)\n",
    "    k2=k2.replace('-SUCCESS',' Seperator Debit Seperator SUCCESS Seperator',1)\n",
    "    k2=k2.replace('-FAILURE',' Seperator Debit Seperator FAILURE Seperator',1)\n",
    "    k2=k2.replace('+REFUNDED_BACK',' Seperator Debit Seperator REFUNDED_BACK Seperator',1)\n",
    "    k2=k2.replace('-REFUNDED_BACK',' Seperator Debit Seperator REFUNDED_BACK Seperator',1)\n",
    "    #k2=k2.replace('SUCCESS','SUCCESS Seperator ')\n",
    "    #k2=k2.replace('FAILURE','FAILURE Seperator ')\n",
    "    k3 = k2.split('Seperator')\n",
    "    k3 = pd.DataFrame(k3)\n",
    "    k4 = k3.T\n",
    "    k4.columns = ['Date','Activity','Amount','Amount_type','Amount_Status','Order_info']\n",
    "    return(k4)"
   ]
  },
  {
   "cell_type": "code",
   "execution_count": 46,
   "metadata": {},
   "outputs": [],
   "source": [
    "def fun_selection(new_list,function_type):\n",
    "    paytm_data= pd.DataFrame([])\n",
    "    for i in new_list:\n",
    "            #print(i)\n",
    "            paytm_data=paytm_data.append(function_type(i))\n",
    "    return(paytm_data)    "
   ]
  },
  {
   "cell_type": "code",
   "execution_count": 47,
   "metadata": {},
   "outputs": [],
   "source": [
    "###############################################\n",
    "#### Function to create PDF into CSV file #####\n",
    "###############################################\n",
    "def convert_pdf(file_name,path,sys_text):\n",
    "    pfr = PyPDF2.PdfFileReader(open(path+file_name, \"rb\"))\n",
    "    \n",
    "    page_data=[]\n",
    "    for i in range(pfr.getNumPages()):\n",
    "        page_data.append((pfr.getPage(i)).extractText())\n",
    "    # Converting list to string    \n",
    "    total_data = \" \".join(page_data)\n",
    "    \n",
    "    # Removing Address & System generated messages\n",
    "    total_data= total_data.replace(sys_text,'')\n",
    "    \n",
    "    unwanted_text_fun2 =total_data.find(\"DETAILSAMOUNTTRANSACTION STATUS\",1)+len(\"DETAILSAMOUNTTRANSACTION STATUS\")\n",
    "    flag=0\n",
    "    \n",
    "    if(total_data.find(\"ACCOUNT DETAILS\",1)>0):\n",
    "        unwanted_text_fun1 =total_data.find(\"ACCOUNT DETAILS\",1)+len(\"ACCOUNT DETAILS\")\n",
    "        flag=1\n",
    "        total_data = total_data[unwanted_text_fun1:]\n",
    "    else:\n",
    "        total_data = total_data[unwanted_text_fun2:]\n",
    "    \n",
    "    # Splitting paragraph into rows \n",
    "    months = [\" JAN \",\" FEB \",\" MAR \",' APR ',' MAY ',' JUN ',' JUL ',\" AUG \",' SEP ',\" OCT \",\" NOV \",\" DEC \"]\n",
    "    \n",
    "    for i in months:\n",
    "        match = str(str('TAG_REMOVER')+i)\n",
    "        total_data = total_data.replace(i,match)\n",
    "    final_data = total_data.split('TAG_REMOVER')\n",
    "    \n",
    "    # Changing rows into complete row\n",
    "    new_list=[]\n",
    "    for i in range(len(final_data)-1):\n",
    "        if(i<len(final_data)):\n",
    "            k1 = final_data[i][-2:]+ final_data[i+1][:-2]\n",
    "            k1 = k1.strip()\n",
    "            new_list.append(k1)\n",
    "        else:\n",
    "            break\n",
    "            \n",
    "    if(flag==0):\n",
    "        paytm_data = fun_selection(new_list,Seperator_add)\n",
    "    else:\n",
    "        paytm_data = fun_selection(new_list,Seperator_add_format_2)\n",
    "        \n",
    "    return(paytm_data)"
   ]
  },
  {
   "cell_type": "code",
   "execution_count": 49,
   "metadata": {
    "scrolled": true
   },
   "outputs": [
    {
     "data": {
      "text/plain": [
       "893"
      ]
     },
     "execution_count": 49,
     "metadata": {},
     "output_type": "execute_result"
    }
   ],
   "source": [
    "#calling Function\n",
    "paytm_data = convert_pdf('paytm_data.pdf',path,sys_text)\n",
    "paytm_data= paytm_data.reset_index()\n",
    "del paytm_data['index']\n",
    "len(paytm_data)"
   ]
  },
  {
   "cell_type": "code",
   "execution_count": 11,
   "metadata": {},
   "outputs": [],
   "source": [
    "def data_preparation(final_data):\n",
    "    var = final_data.columns.tolist()\n",
    "    for i in var: \n",
    "        final_data[i]=final_data[i].str.strip()\n",
    "        final_data[i]=final_data[i].str.lower()\n",
    "        \n",
    "    # Removing unwanted data\n",
    "    final_data = final_data[final_data['Amount_Status']!='failure']\n",
    "    final_data = final_data[final_data['Activity']!='refunded back']\n",
    "    final_data = final_data[final_data['Activity']!='on hold for order']\n",
    "        \n",
    "    # Extracting Name variable from Activity and order info variable\n",
    "    final_data[['Money_sent_tag','Money_sent_name']] = final_data.Activity.str.split(' to ',expand=True)\n",
    "    final_data.Money_sent_tag = final_data.Money_sent_tag.str.strip()\n",
    "        \n",
    "    # Order ID Seperation\n",
    "    final_data[['Order_for','Order_ID']] = final_data.Order_info.str.split('paytm cash txn',expand=True)\n",
    "        \n",
    "    #final_data.Order_for = final_data.Order_for.str.replace(\"Order\",'')\n",
    "    final_data.Order_ID = final_data.Order_ID.str.replace(\"id\",'')\n",
    "\n",
    "    # Order ID Seperation\n",
    "    final_data[['Order_for_name','Order_New_Tag']] = final_data.Order_for.str.split('order',expand=True)\n",
    "    \n",
    "    final_data.Money_sent_name.fillna(final_data.Order_for_name,inplace=True)\n",
    "    final_data.Money_sent_name = final_data.Money_sent_name.str.strip()\n",
    "    #final_data['Receiver_Name'] = np.where(final_data.Money_sent_name==''& np.where(final_data.Amount_Status=='debit'),'blank',final_data.Money_sent_name)\n",
    "\n",
    "    final_data['Receiver_Name'] = np.where(final_data.Money_sent_name=='','blank',final_data.Money_sent_name)\n",
    "    final_data.Receiver_Name = final_data.Receiver_Name.str.replace('  ',' ')\n",
    "    #final_data['Money_Received_from_name'] = final_data.Activity.str.split(' from ',expand=True)[1]\n",
    "    #final_data['Money_Received_from_name'].fillna('no_received',inplace=True)\n",
    "    \n",
    "    # converting Amount to float type\n",
    "    final_data.Amount = final_data.Amount.astype(float)\n",
    "    final_data['Date_var'] = final_data['Date'].map(lambda x: x[0:9])\n",
    "    final_data.Date_var = pd.to_datetime(final_data.Date_var,format='%d %b %y')\n",
    "    \n",
    "    var_updated = var+['Receiver_Name','Date_var','Money_sent_name']\n",
    "    final_data = final_data[var_updated]\n",
    "    return(final_data)"
   ]
  },
  {
   "cell_type": "code",
   "execution_count": 12,
   "metadata": {},
   "outputs": [],
   "source": [
    "final_data = data_preparation(paytm_data)"
   ]
  },
  {
   "cell_type": "code",
   "execution_count": 13,
   "metadata": {},
   "outputs": [
    {
     "data": {
      "text/plain": [
       "97"
      ]
     },
     "execution_count": 13,
     "metadata": {},
     "output_type": "execute_result"
    }
   ],
   "source": [
    "#Q1. Total Transaction activities\n",
    "Total_activities_count = len(final_data)\n",
    "Total_activities_count"
   ]
  },
  {
   "cell_type": "code",
   "execution_count": 14,
   "metadata": {},
   "outputs": [
    {
     "data": {
      "text/plain": [
       "116.0"
      ]
     },
     "execution_count": 14,
     "metadata": {},
     "output_type": "execute_result"
    }
   ],
   "source": [
    "# Q2. Total Cashback amount\n",
    "Total_cashback = final_data[final_data['Activity']=='cashback received'].Amount.sum()\n",
    "Total_cashback"
   ]
  },
  {
   "cell_type": "code",
   "execution_count": 15,
   "metadata": {},
   "outputs": [
    {
     "data": {
      "text/plain": [
       "54400.0"
      ]
     },
     "execution_count": 15,
     "metadata": {},
     "output_type": "execute_result"
    }
   ],
   "source": [
    "# Q3. Total Amount Added to the Wallet \n",
    "Total_Wallet_amount = final_data[final_data['Activity']=='added to paytm account'].Amount.sum()\n",
    "Total_Wallet_amount"
   ]
  },
  {
   "cell_type": "code",
   "execution_count": 16,
   "metadata": {},
   "outputs": [
    {
     "data": {
      "text/plain": [
       "29119.69"
      ]
     },
     "execution_count": 16,
     "metadata": {},
     "output_type": "execute_result"
    }
   ],
   "source": [
    "# Q4. Total Amount transferred to the bank\n",
    "Total_bank_transfer = round(final_data[final_data['Activity']=='transferred to bank'].Amount.sum(),2)\n",
    "Total_bank_transfer"
   ]
  },
  {
   "cell_type": "code",
   "execution_count": 17,
   "metadata": {},
   "outputs": [
    {
     "data": {
      "text/plain": [
       "25280.31"
      ]
     },
     "execution_count": 17,
     "metadata": {},
     "output_type": "execute_result"
    }
   ],
   "source": [
    "# Q5. Total Amount Spent through Paytm \n",
    "Total_amount_spent = round(Total_Wallet_amount-Total_bank_transfer,2)\n",
    "Total_amount_spent"
   ]
  },
  {
   "cell_type": "code",
   "execution_count": 18,
   "metadata": {},
   "outputs": [],
   "source": [
    "def debit_fun(data):\n",
    "    debit_data = data[(data['Amount_type']=='debit')&(data['Activity']!='transferred to bank')]\n",
    "    return(debit_data)"
   ]
  },
  {
   "cell_type": "code",
   "execution_count": 19,
   "metadata": {},
   "outputs": [],
   "source": [
    "def dashboad_debit(data,date='2018-01-22'):\n",
    "    debit_data_1 = debit_fun(data)\n",
    "\n",
    "    # Day-wise Amount Spent 0\n",
    "    date_agg_amt = debit_data_1.groupby('Date_var')\n",
    "    date_agg_data = pd.DataFrame(date_agg_amt['Amount'].sum()).reset_index().sort_values('Amount',ascending=False)\n",
    "    \n",
    "    # Daywise-Amount spent- where 1\n",
    "    #date_data = debit_data_1[debit_data_1['Date_var']==date]\n",
    "    name_agg_amt = debit_data_1.groupby('Receiver_Name')\n",
    "    name_agg_data = pd.DataFrame(name_agg_amt['Amount'].sum()).reset_index().sort_values('Amount',ascending=False)\n",
    "    Receiver_Name_count = name_agg_amt[['Date']].count().reset_index().sort_values('Date',ascending=False)\n",
    "    Receiver_Name_count.columns= ['Receiver_Name','Total_Transaction']\n",
    "    name_agg_data = pd.merge(name_agg_data,Receiver_Name_count,on='Receiver_Name',how='left').sort_values('Total_Transaction',ascending=False)\n",
    "    \n",
    "    \n",
    "    # Monthly Amount Spent\n",
    "    debit_data_1['Month_year'] = pd.to_datetime(debit_data_1['Date'].map(lambda x: x[3:9]),format='%b %y')\n",
    "    date_agg_amt_month = debit_data_1.groupby('Month_year')\n",
    "    date_agg_data_month = pd.DataFrame(date_agg_amt_month['Amount'].sum()).reset_index() #.sort_values('Month_year',ascending=False)\n",
    "\n",
    "     # Monthly-Amount spent- where\n",
    "    month_date = date[0:7]\n",
    "    debit_data_1.Month_year=debit_data_1.Month_year.dt.strftime('%Y-%m')\n",
    "    date_data_month = debit_data_1[debit_data_1['Month_year']==month_date]\n",
    "    name_agg_amt = date_data_month.groupby('Receiver_Name')\n",
    "    name_agg_data_month = pd.DataFrame(name_agg_amt['Amount'].sum()).reset_index().sort_values('Amount',ascending=False)\n",
    "    Receiver_Name_count = name_agg_amt[['Date']].count().reset_index().sort_values('Date',ascending=False)\n",
    "    Receiver_Name_count.columns= ['Receiver_Name','Total_Transaction']\n",
    "    name_agg_data_month = pd.merge(name_agg_data_month,Receiver_Name_count,on='Receiver_Name',how='left').sort_values('Total_Transaction',ascending=False)\n",
    "    \n",
    "    \n",
    "    return(name_agg_data,date_agg_data,date_agg_data_month,name_agg_data_month)    "
   ]
  },
  {
   "cell_type": "code",
   "execution_count": 20,
   "metadata": {},
   "outputs": [],
   "source": [
    "# Day-wise Total Debited amount\n",
    "debit_per_month = dashboad_debit(final_data,'2018-01-22')[2]\n",
    "debit_per_month['Month_year'] = debit_per_month.Month_year.astype(str)\n",
    "debit_per_month['months'] = debit_per_month.Month_year.apply(lambda x: x[0:7]) \n",
    "debit_per_month = debit_per_month.sort_values('months',ascending=True)\n",
    "\n",
    "\n",
    "# Month-wise amount spend\n",
    "ax = sns.barplot(x=\"months\", y=\"Amount\", data=debit_per_month)\n",
    "#ax.set_xticklabels(ax.get_xticklabels(),rotation=30)[-0]"
   ]
  },
  {
   "cell_type": "code",
   "execution_count": 21,
   "metadata": {},
   "outputs": [],
   "source": [
    "# Where did you spend the month on the hight debited month\n",
    "debit_per_month = debit_per_month.sort_values('Amount',ascending=False)\n",
    "top_3_months = debit_per_month[:3].months.tolist()"
   ]
  },
  {
   "cell_type": "code",
   "execution_count": 22,
   "metadata": {},
   "outputs": [],
   "source": [
    "# Top 3 Month highest spent receiver's name\n",
    "def receiver_name_fun(month):\n",
    "    top_month = dashboad_debit(final_data,month)[3]\n",
    "    top_month['cum_sum'] = top_month.Amount.cumsum()\n",
    "    top_month_90_per = round(top_month.Amount.sum()*.90,2)\n",
    "    top_month_updated = top_month[top_month['cum_sum']<top_month_90_per]\n",
    "    del top_month_updated['cum_sum']\n",
    "    # Debited amount\n",
    "    ax = sns.barplot(x=\"Receiver_Name\", y=\"Amount\", data=top_month_updated).set_title(month)\n",
    "    #ax.xticks(rotation=-45)\n",
    "    #return(top_month_updated)"
   ]
  },
  {
   "cell_type": "code",
   "execution_count": 27,
   "metadata": {},
   "outputs": [],
   "source": [
    "import seaborn as sns\n",
    "sns.set(rc={'figure.figsize':(15.7,8.27)})"
   ]
  },
  {
   "cell_type": "code",
   "execution_count": 28,
   "metadata": {},
   "outputs": [
    {
     "data": {
      "image/png": "[encoded data removed]",
      "text/plain": [
       "<Figure size 1130.4x595.44 with 1 Axes>"
      ]
     },
     "metadata": {},
     "output_type": "display_data"
    }
   ],
   "source": [
    "top_month_updated = receiver_name_fun(top_3_months[0])"
   ]
  },
  {
   "cell_type": "code",
   "execution_count": 24,
   "metadata": {},
   "outputs": [],
   "source": [
    "# How many transaction that is performed for each activities "
   ]
  },
  {
   "cell_type": "code",
   "execution_count": 29,
   "metadata": {},
   "outputs": [
    {
     "data": {
      "image/png": "[encoded data removed]",
      "text/plain": [
       "<Figure size 1130.4x595.44 with 1 Axes>"
      ]
     },
     "metadata": {},
     "output_type": "display_data"
    }
   ],
   "source": [
    "receiver_name_fun(top_3_months[1])"
   ]
  },
  {
   "cell_type": "code",
   "execution_count": 30,
   "metadata": {},
   "outputs": [],
   "source": [
    "# For a Particluar month- analysis the most spent month\n",
    "#receiver_name_fun(top_3_months[2])"
   ]
  },
  {
   "cell_type": "code",
   "execution_count": 36,
   "metadata": {},
   "outputs": [],
   "source": [
    "# Frequent Transactions Function: \n",
    "def freq_tran(data):\n",
    "    data['cum_sum'] = data.Total_Transaction.cumsum()\n",
    "    top_freq_70_per = round(data.Total_Transaction.sum()*.70,2)\n",
    "    top_freq_updated = data[data['cum_sum']<top_freq_70_per]\n",
    "    del top_freq_updated['cum_sum']\n",
    "    ax = sns.barplot(x=\"Receiver_Name\", y=\"Total_Transaction\", data=top_freq_updated).set_title('Top Frequent Transactions of Total:- '+str(data.Total_Transaction.sum()))\n",
    "    #plt.xticks(rotation=75)"
   ]
  },
  {
   "cell_type": "code",
   "execution_count": 33,
   "metadata": {},
   "outputs": [],
   "source": [
    "#Overall Number of Total Transactions\n",
    "#freq_tran(dashboad_debit(final_data)[0])"
   ]
  },
  {
   "cell_type": "code",
   "execution_count": 37,
   "metadata": {},
   "outputs": [
    {
     "data": {
      "image/png": "[encoded data removed]",
      "text/plain": [
       "<Figure size 1130.4x595.44 with 1 Axes>"
      ]
     },
     "metadata": {},
     "output_type": "display_data"
    }
   ],
   "source": [
    "# Dec Month \n",
    "freq_tran(dashboad_debit(final_data,'2019-01-01')[3])"
   ]
  },
  {
   "cell_type": "code",
   "execution_count": 38,
   "metadata": {},
   "outputs": [],
   "source": [
    "#dashboad_debit(final_data,'2019-01-01')[3]"
   ]
  },
  {
   "cell_type": "code",
   "execution_count": null,
   "metadata": {},
   "outputs": [],
   "source": []
  }
 ],
 "metadata": {
  "kernelspec": {
   "display_name": "Python 3",
   "language": "python",
   "name": "python3"
  },
  "language_info": {
   "codemirror_mode": {
    "name": "ipython",
    "version": 3
   },
   "file_extension": ".py",
   "mimetype": "text/x-python",
   "name": "python",
   "nbconvert_exporter": "python",
   "pygments_lexer": "ipython3",
   "version": "3.6.4"
  }
 },
 "nbformat": 4,
 "nbformat_minor": 2
}
